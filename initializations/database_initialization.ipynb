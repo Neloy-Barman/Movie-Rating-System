{
  "cells": [
    {
      "cell_type": "markdown",
      "metadata": {
        "id": "XzFhOSobMi-o"
      },
      "source": [
        "# **Package installation**"
      ]
    },
    {
      "cell_type": "code",
      "execution_count": 53,
      "metadata": {
        "colab": {
          "base_uri": "https://localhost:8080/"
        },
        "id": "i_AWA-bJD9ke",
        "outputId": "b459f7ce-1b67-4d67-886e-b1a346f9c861"
      },
      "outputs": [
        {
          "name": "stdout",
          "output_type": "stream",
          "text": [
            "Requirement already satisfied: psycopg2 in /usr/local/lib/python3.10/dist-packages (2.9.9)\n"
          ]
        }
      ],
      "source": [
        "!pip install psycopg2"
      ]
    },
    {
      "cell_type": "markdown",
      "metadata": {
        "id": "gsWQ8zLwMpL4"
      },
      "source": [
        "# **Necessary Imports**"
      ]
    },
    {
      "cell_type": "code",
      "execution_count": 54,
      "metadata": {
        "id": "m-DQNCGnEFYh"
      },
      "outputs": [],
      "source": [
        "import psycopg2"
      ]
    },
    {
      "cell_type": "markdown",
      "metadata": {
        "id": "95ZKy5YJMte5"
      },
      "source": [
        "# **Database URI**\n",
        "### **NB: - The URI is hidden for the security purpose, thanks.**"
      ]
    },
    {
      "cell_type": "code",
      "execution_count": 55,
      "metadata": {
        "id": "R4C-H92FELWK"
      },
      "outputs": [],
      "source": [
        "DATABASE_URI = \"\""
      ]
    },
    {
      "cell_type": "markdown",
      "metadata": {
        "id": "2uHiRDRgNEu3"
      },
      "source": [
        "# **Users schema**"
      ]
    },
    {
      "cell_type": "markdown",
      "metadata": {
        "id": "PHmFuxlJNEQv"
      },
      "source": [
        "## **Table Deletion**"
      ]
    },
    {
      "cell_type": "code",
      "execution_count": 56,
      "metadata": {
        "id": "lifHQKiELrPx"
      },
      "outputs": [],
      "source": [
        "connection = psycopg2.connect(DATABASE_URI)\n",
        "cur = connection.cursor()\n",
        "\n",
        "deletion = \"DROP TABLE IF EXISTS users\"\n",
        "\n",
        "cur.execute(deletion)\n",
        "connection.commit()\n",
        "\n",
        "cur.close()\n",
        "connection.close()"
      ]
    },
    {
      "cell_type": "markdown",
      "metadata": {
        "id": "gLPzXf52NOEH"
      },
      "source": [
        "## **Creation**"
      ]
    },
    {
      "cell_type": "code",
      "execution_count": 57,
      "metadata": {
        "id": "xqTzsr7GETNp"
      },
      "outputs": [],
      "source": [
        "connection = psycopg2.connect(DATABASE_URI)\n",
        "cur = connection.cursor()\n",
        "\n",
        "creation = \"\"\"\n",
        "  CREATE TABLE public.users(\n",
        "      id SERIAL PRIMARY KEY,\n",
        "      name CHARACTER VARYING(50) NOT NULL,\n",
        "      phone NUMERIC NOT NULL,\n",
        "      password CHARACTER VARYING(50) NOT NULL,\n",
        "      email CHARACTER VARYING NOT NULL\n",
        "  );\n",
        "\"\"\"\n",
        "\n",
        "cur.execute(creation)\n",
        "connection.commit()\n",
        "\n",
        "cur.close()\n",
        "connection.close()"
      ]
    },
    {
      "cell_type": "markdown",
      "metadata": {
        "id": "BCIbLkRrNSzX"
      },
      "source": [
        "## **Insertion**"
      ]
    },
    {
      "cell_type": "code",
      "execution_count": 58,
      "metadata": {
        "id": "gTiWp7FtGs3D"
      },
      "outputs": [],
      "source": [
        "connection = psycopg2.connect(DATABASE_URI)\n",
        "cur = connection.cursor()\n",
        "\n",
        "insertions = [\n",
        "    \"INSERT INTO public.users(name, phone, password, email) VALUES('John Doe', 11111111111, 'pass1', 'john_doe@gmail.com');\",\n",
        "    \"INSERT INTO public.users(name, phone, password, email) VALUES('Jane Doe', 22222222222, 'pass2', 'jane_doe@gmail.com');\",\n",
        "    \"INSERT INTO public.users(name, phone, password, email) VALUES('Mark Doe', 33333333333, 'pass3', 'mark_doe@gmail.com');\",\n",
        "]\n",
        "\n",
        "for insert in  insertions:\n",
        "  cur.execute(insert)\n",
        "\n",
        "connection.commit()\n",
        "cur.close()\n",
        "connection.close()"
      ]
    },
    {
      "cell_type": "markdown",
      "metadata": {
        "id": "3EimQuUtNVY2"
      },
      "source": [
        "## **Viewing Data**"
      ]
    },
    {
      "cell_type": "code",
      "execution_count": 59,
      "metadata": {
        "colab": {
          "base_uri": "https://localhost:8080/"
        },
        "id": "Ww6Q8eo1EBw5",
        "outputId": "299fecb5-02f5-45f1-863c-21730f68f59a"
      },
      "outputs": [
        {
          "name": "stdout",
          "output_type": "stream",
          "text": [
            "(1, 'John Doe', Decimal('11111111111'), 'pass1', 'john_doe@gmail.com')\n",
            "(2, 'Jane Doe', Decimal('22222222222'), 'pass2', 'jane_doe@gmail.com')\n",
            "(3, 'Mark Doe', Decimal('33333333333'), 'pass3', 'mark_doe@gmail.com')\n"
          ]
        }
      ],
      "source": [
        "connection = psycopg2.connect(DATABASE_URI)\n",
        "cur = connection.cursor()\n",
        "\n",
        "selection = \"SELECT * FROM users;\"\n",
        "\n",
        "cur.execute(selection)\n",
        "users = cur.fetchall()\n",
        "\n",
        "cur.close()\n",
        "connection.close()\n",
        "\n",
        "for user in users:\n",
        "  print(user)\n"
      ]
    },
    {
      "cell_type": "markdown",
      "metadata": {
        "id": "b5FcOY0kNqX-"
      },
      "source": [
        "## **Table Deletion**"
      ]
    },
    {
      "cell_type": "code",
      "execution_count": 60,
      "metadata": {
        "id": "ORE2OtjsL8_h"
      },
      "outputs": [],
      "source": [
        "connection = psycopg2.connect(DATABASE_URI)\n",
        "cur = connection.cursor()\n",
        "\n",
        "deletion = \"DROP TABLE IF EXISTS movies\"\n",
        "\n",
        "cur.execute(deletion)\n",
        "connection.commit()\n",
        "\n",
        "cur.close()\n",
        "connection.close()"
      ]
    },
    {
      "cell_type": "markdown",
      "metadata": {
        "id": "XEVlr7RONlmm"
      },
      "source": [
        "## **Creation**"
      ]
    },
    {
      "cell_type": "code",
      "execution_count": 61,
      "metadata": {
        "id": "hOPggAwgH80x"
      },
      "outputs": [],
      "source": [
        "connection = psycopg2.connect(DATABASE_URI)\n",
        "cur = connection.cursor()\n",
        "\n",
        "creation = \"\"\"\n",
        "  CREATE TABLE public.movies(\n",
        "      id SERIAL PRIMARY KEY,\n",
        "      name CHARACTER VARYING(50) NOT NULL,\n",
        "      genre CHARACTER VARYING(20) NOT NULL,\n",
        "      rating CHARACTER VARYING(10) NOT NULL,\n",
        "      release_date DATE NOT NULL\n",
        "  );\n",
        "\"\"\"\n",
        "\n",
        "cur.execute(creation)\n",
        "\n",
        "connection.commit()\n",
        "cur.close()\n",
        "connection.close()"
      ]
    },
    {
      "cell_type": "markdown",
      "metadata": {
        "id": "bqtBNal3NiN-"
      },
      "source": [
        "## **Insertion**"
      ]
    },
    {
      "cell_type": "code",
      "execution_count": 62,
      "metadata": {
        "id": "qQNcJOAdIN1B"
      },
      "outputs": [],
      "source": [
        "connection = psycopg2.connect(DATABASE_URI)\n",
        "cur = connection.cursor()\n",
        "\n",
        "insertions = [\n",
        "    \"INSERT INTO public.movies(name, genre, rating, release_date) VALUES('Home Alone', 'Comedy', 'PG', TO_DATE('04/01/1996', 'DD/MM/YYYY'));\",\n",
        "    \"INSERT INTO public.movies(name, genre, rating, release_date) VALUES('The Godfather', 'Crime', 'R', TO_DATE('04/01/1972', 'DD/MM/YYYY'));\",\n",
        "    \"INSERT INTO public.movies(name, genre, rating, release_date) VALUES('Avengers: Endgame', 'Action', 'PG', TO_DATE('04/01/2019', 'DD/MM/YYYY'));\",\n",
        "]\n",
        "\n",
        "for insert in  insertions:\n",
        "  cur.execute(insert)\n",
        "\n",
        "connection.commit()\n",
        "cur.close()\n",
        "connection.close()"
      ]
    },
    {
      "cell_type": "markdown",
      "metadata": {
        "id": "oIlDpDToNcL2"
      },
      "source": [
        "## **Viewing Data**"
      ]
    },
    {
      "cell_type": "code",
      "execution_count": 63,
      "metadata": {
        "colab": {
          "base_uri": "https://localhost:8080/"
        },
        "id": "vHgoDnLRIiMg",
        "outputId": "62c23c66-f9c4-4617-ef1d-498f4ddeaa8f"
      },
      "outputs": [
        {
          "name": "stdout",
          "output_type": "stream",
          "text": [
            "(1, 'Home Alone', 'Comedy', 'PG', datetime.date(1996, 1, 4))\n",
            "(2, 'The Godfather', 'Crime', 'R', datetime.date(1972, 1, 4))\n",
            "(3, 'Avengers: Endgame', 'Action', 'PG', datetime.date(2019, 1, 4))\n"
          ]
        }
      ],
      "source": [
        "connection = psycopg2.connect(DATABASE_URI)\n",
        "cur = connection.cursor()\n",
        "\n",
        "selection = \"SELECT * FROM movies;\"\n",
        "\n",
        "cur.execute(selection)\n",
        "movies = cur.fetchall()\n",
        "\n",
        "cur.close()\n",
        "connection.close()\n",
        "\n",
        "for movie in movies:\n",
        "  print(movie)"
      ]
    },
    {
      "cell_type": "markdown",
      "metadata": {
        "id": "DQX75gnGNrvm"
      },
      "source": [
        "## **Table Deletion**"
      ]
    },
    {
      "cell_type": "code",
      "execution_count": 64,
      "metadata": {
        "id": "9t2lMH4QMADh"
      },
      "outputs": [],
      "source": [
        "connection = psycopg2.connect(DATABASE_URI)\n",
        "cur = connection.cursor()\n",
        "\n",
        "deletion = \"DROP TABLE IF EXISTS ratings\"\n",
        "\n",
        "cur.execute(deletion)\n",
        "connection.commit()\n",
        "\n",
        "cur.close()\n",
        "connection.close()"
      ]
    },
    {
      "cell_type": "markdown",
      "metadata": {
        "id": "45MknB_ENnEu"
      },
      "source": [
        "## **Creation**"
      ]
    },
    {
      "cell_type": "code",
      "execution_count": 65,
      "metadata": {
        "id": "vRqcs2TEEB0J"
      },
      "outputs": [],
      "source": [
        "connection = psycopg2.connect(DATABASE_URI)\n",
        "cur = connection.cursor()\n",
        "\n",
        "creation = \"\"\"\n",
        "  CREATE TABLE public.ratings(\n",
        "      id SERIAL PRIMARY KEY,\n",
        "      user_id INTEGER REFERENCES public.users,\n",
        "      movie_id INTEGER REFERENCES public.movies,\n",
        "      rating FLOAT NOT NULL\n",
        "  );\n",
        "\"\"\"\n",
        "\n",
        "cur.execute(creation)\n",
        "connection.commit()\n",
        "\n",
        "cur.close()\n",
        "connection.close()"
      ]
    },
    {
      "cell_type": "markdown",
      "metadata": {
        "id": "n3r8HjwbNgZu"
      },
      "source": [
        "## **Insertion**"
      ]
    },
    {
      "cell_type": "code",
      "execution_count": 66,
      "metadata": {
        "id": "nI9BfYkTEB3J"
      },
      "outputs": [],
      "source": [
        "connection = psycopg2.connect(DATABASE_URI)\n",
        "cur = connection.cursor()\n",
        "\n",
        "insertions = [\n",
        "    \"INSERT INTO public.ratings(user_id, movie_id, rating) VALUES(1, 1, 5.0);\",\n",
        "    \"INSERT INTO public.ratings(user_id, movie_id, rating) VALUES(1, 2, 4.0);\",\n",
        "    \"INSERT INTO public.ratings(user_id, movie_id, rating) VALUES(1, 3, 3.3);\",\n",
        "    \"INSERT INTO public.ratings(user_id, movie_id, rating) VALUES(2, 1, 5.0);\",\n",
        "    \"INSERT INTO public.ratings(user_id, movie_id, rating) VALUES(2, 3, 4.5);\",\n",
        "    \"INSERT INTO public.ratings(user_id, movie_id, rating) VALUES(3, 1, 1.6);\",\n",
        "    \"INSERT INTO public.ratings(user_id, movie_id, rating) VALUES(3, 2, 0.0);\",\n",
        "    \"INSERT INTO public.ratings(user_id, movie_id, rating) VALUES(3, 3, 3.4);\",\n",
        "]\n",
        "\n",
        "for insert in  insertions:\n",
        "  cur.execute(insert)\n",
        "\n",
        "connection.commit()\n",
        "cur.close()\n",
        "connection.close()"
      ]
    },
    {
      "cell_type": "markdown",
      "metadata": {
        "id": "RUs2jCYuNaf2"
      },
      "source": [
        "## **Viewing Data**"
      ]
    },
    {
      "cell_type": "code",
      "execution_count": 67,
      "metadata": {
        "colab": {
          "base_uri": "https://localhost:8080/"
        },
        "id": "1tieI9ZtKhrz",
        "outputId": "c92d1325-c077-4311-9584-ebac9c560523"
      },
      "outputs": [
        {
          "name": "stdout",
          "output_type": "stream",
          "text": [
            "(1, 1, 1, 5.0)\n",
            "(2, 1, 2, 4.0)\n",
            "(3, 1, 3, 3.3)\n",
            "(4, 2, 1, 5.0)\n",
            "(5, 2, 3, 4.5)\n",
            "(6, 3, 1, 1.6)\n",
            "(7, 3, 2, 0.0)\n",
            "(8, 3, 3, 3.4)\n"
          ]
        }
      ],
      "source": [
        "connection = psycopg2.connect(DATABASE_URI)\n",
        "cur = connection.cursor()\n",
        "\n",
        "selection = \"SELECT * FROM ratings;\"\n",
        "\n",
        "cur.execute(selection)\n",
        "ratings = cur.fetchall()\n",
        "\n",
        "cur.close()\n",
        "connection.close()\n",
        "\n",
        "for rating in ratings:\n",
        "  print(rating)"
      ]
    }
  ],
  "metadata": {
    "colab": {
      "provenance": []
    },
    "kernelspec": {
      "display_name": "Python 3",
      "name": "python3"
    },
    "language_info": {
      "name": "python"
    }
  },
  "nbformat": 4,
  "nbformat_minor": 0
}
